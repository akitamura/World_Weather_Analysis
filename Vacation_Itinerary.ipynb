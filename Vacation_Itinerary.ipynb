{
 "cells": [
  {
   "cell_type": "markdown",
   "metadata": {},
   "source": [
    "# Challenge Pt 3"
   ]
  },
  {
   "cell_type": "code",
   "execution_count": 14,
   "metadata": {},
   "outputs": [],
   "source": [
    "# Create direction layer for routes to 4 cities"
   ]
  },
  {
   "cell_type": "code",
   "execution_count": 15,
   "metadata": {},
   "outputs": [],
   "source": [
    "import pandas as pd\n",
    "import requests\n",
    "import gmaps\n",
    "\n",
    "from config import g_key"
   ]
  },
  {
   "cell_type": "code",
   "execution_count": 16,
   "metadata": {},
   "outputs": [
    {
     "data": {
      "text/plain": [
       "'0.9.0'"
      ]
     },
     "execution_count": 16,
     "metadata": {},
     "output_type": "execute_result"
    }
   ],
   "source": [
    "gmaps.__version__"
   ]
  },
  {
   "cell_type": "code",
   "execution_count": 17,
   "metadata": {},
   "outputs": [],
   "source": [
    "gmaps.configure(api_key=g_key)"
   ]
  },
  {
   "cell_type": "code",
   "execution_count": 18,
   "metadata": {},
   "outputs": [],
   "source": [
    "vacation_df = pd.read_csv(\"data/WeatherPy_Vacation.csv\")"
   ]
  },
  {
   "cell_type": "code",
   "execution_count": 19,
   "metadata": {},
   "outputs": [
    {
     "data": {
      "text/html": [
       "<div>\n",
       "<style scoped>\n",
       "    .dataframe tbody tr th:only-of-type {\n",
       "        vertical-align: middle;\n",
       "    }\n",
       "\n",
       "    .dataframe tbody tr th {\n",
       "        vertical-align: top;\n",
       "    }\n",
       "\n",
       "    .dataframe thead th {\n",
       "        text-align: right;\n",
       "    }\n",
       "</style>\n",
       "<table border=\"1\" class=\"dataframe\">\n",
       "  <thead>\n",
       "    <tr style=\"text-align: right;\">\n",
       "      <th></th>\n",
       "      <th>City_ID</th>\n",
       "      <th>City</th>\n",
       "      <th>Country</th>\n",
       "      <th>Max Temp</th>\n",
       "      <th>Lat</th>\n",
       "      <th>Lng</th>\n",
       "      <th>Hotel Name</th>\n",
       "    </tr>\n",
       "  </thead>\n",
       "  <tbody>\n",
       "    <tr>\n",
       "      <th>0</th>\n",
       "      <td>0</td>\n",
       "      <td>ler</td>\n",
       "      <td>SS</td>\n",
       "      <td>80.26</td>\n",
       "      <td>8.30</td>\n",
       "      <td>30.14</td>\n",
       "      <td>NaN</td>\n",
       "    </tr>\n",
       "    <tr>\n",
       "      <th>1</th>\n",
       "      <td>2</td>\n",
       "      <td>chokurdakh</td>\n",
       "      <td>RU</td>\n",
       "      <td>91.42</td>\n",
       "      <td>70.63</td>\n",
       "      <td>147.92</td>\n",
       "      <td>NaN</td>\n",
       "    </tr>\n",
       "    <tr>\n",
       "      <th>2</th>\n",
       "      <td>3</td>\n",
       "      <td>tateyama</td>\n",
       "      <td>JP</td>\n",
       "      <td>77.00</td>\n",
       "      <td>34.98</td>\n",
       "      <td>139.87</td>\n",
       "      <td>Tateyama Seaside Hotel</td>\n",
       "    </tr>\n",
       "    <tr>\n",
       "      <th>3</th>\n",
       "      <td>4</td>\n",
       "      <td>kaman</td>\n",
       "      <td>IN</td>\n",
       "      <td>110.08</td>\n",
       "      <td>27.65</td>\n",
       "      <td>77.27</td>\n",
       "      <td>Khandelwal Dharmashala</td>\n",
       "    </tr>\n",
       "    <tr>\n",
       "      <th>4</th>\n",
       "      <td>6</td>\n",
       "      <td>villarrica</td>\n",
       "      <td>PY</td>\n",
       "      <td>68.54</td>\n",
       "      <td>-25.75</td>\n",
       "      <td>-56.43</td>\n",
       "      <td>Mansión Reljuv Tours SA</td>\n",
       "    </tr>\n",
       "  </tbody>\n",
       "</table>\n",
       "</div>"
      ],
      "text/plain": [
       "   City_ID        City Country  Max Temp    Lat     Lng  \\\n",
       "0        0         ler      SS     80.26   8.30   30.14   \n",
       "1        2  chokurdakh      RU     91.42  70.63  147.92   \n",
       "2        3    tateyama      JP     77.00  34.98  139.87   \n",
       "3        4       kaman      IN    110.08  27.65   77.27   \n",
       "4        6  villarrica      PY     68.54 -25.75  -56.43   \n",
       "\n",
       "                Hotel Name  \n",
       "0                      NaN  \n",
       "1                      NaN  \n",
       "2   Tateyama Seaside Hotel  \n",
       "3   Khandelwal Dharmashala  \n",
       "4  Mansión Reljuv Tours SA  "
      ]
     },
     "execution_count": 19,
     "metadata": {},
     "output_type": "execute_result"
    }
   ],
   "source": [
    "vacation_df.head()"
   ]
  },
  {
   "cell_type": "code",
   "execution_count": 20,
   "metadata": {},
   "outputs": [],
   "source": [
    "# Using template add the hotel plots to the heatmat\n",
    "info_box_template = \"\"\"\n",
    "<dl>\n",
    "<dt>Hotel Name</dt>\n",
    "<dd>{Hotel Name}</dd>\n",
    "<dt>City</dt><dd>{City}</dd>\n",
    "<dt>Country</dt><dd>{Country}</dd>\n",
    "<dt>Hotel Name</dt><dd>{Hotel Name} at {Max Temp}</dd>\n",
    "\"\"\"\n",
    "hotel_info = [info_box_template.format(**row) for index, row in vacation_df.iterrows()]\n",
    "locations = vacation_df[[\"Lat\",\"Lng\"]]"
   ]
  },
  {
   "cell_type": "code",
   "execution_count": 21,
   "metadata": {},
   "outputs": [
    {
     "data": {
      "application/vnd.jupyter.widget-view+json": {
       "model_id": "ac9ada14393c4801aecca772abc1ff87",
       "version_major": 2,
       "version_minor": 0
      },
      "text/plain": [
       "Figure(layout=FigureLayout(height='420px'))"
      ]
     },
     "metadata": {},
     "output_type": "display_data"
    }
   ],
   "source": [
    "marker_layer = gmaps.marker_layer(locations, info_box_content = hotel_info)\n",
    "fig = gmaps.figure()\n",
    "fig.add_layer(marker_layer)\n",
    "\n",
    "fig"
   ]
  },
  {
   "cell_type": "code",
   "execution_count": 22,
   "metadata": {},
   "outputs": [],
   "source": [
    "vacation_start = vacation_df.loc[vacation_df[\"City\"] == \"frankfurt\"]\n",
    "vacation_end = vacation_df.loc[vacation_df[\"City\"] == \"trondheim\"]\n",
    "vacation_stop1 = vacation_df.loc[vacation_df[\"City\"] == \"bone\"]\n",
    "vacation_stop2 = vacation_df.loc[vacation_df[\"City\"] == \"timra\"]"
   ]
  },
  {
   "cell_type": "code",
   "execution_count": 23,
   "metadata": {},
   "outputs": [
    {
     "name": "stdout",
     "output_type": "stream",
     "text": [
      "(50.12, 8.68)\n",
      "(63.43, 10.4)\n",
      "(51.97, 12.14)\n",
      "(62.49, 17.33)\n"
     ]
    }
   ],
   "source": [
    "start = vacation_start[\"Lat\"].values[0], vacation_start[\"Lng\"].values[0]\n",
    "end = vacation_end[\"Lat\"].values[0], vacation_end[\"Lng\"].values[0]\n",
    "stop1 = vacation_stop1[\"Lat\"].values[0], vacation_stop1[\"Lng\"].values[0]\n",
    "stop2 = vacation_stop2[\"Lat\"].values[0], vacation_stop2[\"Lng\"].values[0]\n",
    "print(start)\n",
    "print(end)\n",
    "print(stop1)\n",
    "print(stop2)"
   ]
  },
  {
   "cell_type": "code",
   "execution_count": 24,
   "metadata": {
    "scrolled": true
   },
   "outputs": [
    {
     "data": {
      "application/vnd.jupyter.widget-view+json": {
       "model_id": "22989f9877654389893ef947091d7636",
       "version_major": 2,
       "version_minor": 0
      },
      "text/plain": [
       "Figure(layout=FigureLayout(height='420px'))"
      ]
     },
     "metadata": {},
     "output_type": "display_data"
    }
   ],
   "source": [
    "fig = gmaps.figure()\n",
    "vacation_itinerary = gmaps.directions_layer(\n",
    "    start,end,waypoints=[stop1,stop2],\n",
    "    travel_mode=\"DRIVING\"\n",
    ")\n",
    "fig.add_layer(vacation_itinerary)\n",
    "fig"
   ]
  },
  {
   "cell_type": "code",
   "execution_count": 25,
   "metadata": {},
   "outputs": [],
   "source": [
    "itinerary_df = pd.concat([vacation_start, vacation_end, vacation_stop1, vacation_stop2])"
   ]
  },
  {
   "cell_type": "code",
   "execution_count": 26,
   "metadata": {},
   "outputs": [
    {
     "data": {
      "text/html": [
       "<div>\n",
       "<style scoped>\n",
       "    .dataframe tbody tr th:only-of-type {\n",
       "        vertical-align: middle;\n",
       "    }\n",
       "\n",
       "    .dataframe tbody tr th {\n",
       "        vertical-align: top;\n",
       "    }\n",
       "\n",
       "    .dataframe thead th {\n",
       "        text-align: right;\n",
       "    }\n",
       "</style>\n",
       "<table border=\"1\" class=\"dataframe\">\n",
       "  <thead>\n",
       "    <tr style=\"text-align: right;\">\n",
       "      <th></th>\n",
       "      <th>City_ID</th>\n",
       "      <th>City</th>\n",
       "      <th>Country</th>\n",
       "      <th>Max Temp</th>\n",
       "      <th>Lat</th>\n",
       "      <th>Lng</th>\n",
       "      <th>Hotel Name</th>\n",
       "    </tr>\n",
       "  </thead>\n",
       "  <tbody>\n",
       "    <tr>\n",
       "      <th>57</th>\n",
       "      <td>91</td>\n",
       "      <td>frankfurt</td>\n",
       "      <td>DE</td>\n",
       "      <td>66.99</td>\n",
       "      <td>50.12</td>\n",
       "      <td>8.68</td>\n",
       "      <td>Favored Hotel Scala Frankfurt</td>\n",
       "    </tr>\n",
       "    <tr>\n",
       "      <th>12</th>\n",
       "      <td>18</td>\n",
       "      <td>trondheim</td>\n",
       "      <td>NO</td>\n",
       "      <td>75.20</td>\n",
       "      <td>63.43</td>\n",
       "      <td>10.40</td>\n",
       "      <td>Comfort Hotel Trondheim</td>\n",
       "    </tr>\n",
       "    <tr>\n",
       "      <th>349</th>\n",
       "      <td>537</td>\n",
       "      <td>bone</td>\n",
       "      <td>DE</td>\n",
       "      <td>63.00</td>\n",
       "      <td>51.97</td>\n",
       "      <td>12.14</td>\n",
       "      <td>Sporthotel Wallwitz</td>\n",
       "    </tr>\n",
       "    <tr>\n",
       "      <th>177</th>\n",
       "      <td>279</td>\n",
       "      <td>timra</td>\n",
       "      <td>SE</td>\n",
       "      <td>64.99</td>\n",
       "      <td>62.49</td>\n",
       "      <td>17.33</td>\n",
       "      <td>Wifstavarfs Herrgård</td>\n",
       "    </tr>\n",
       "  </tbody>\n",
       "</table>\n",
       "</div>"
      ],
      "text/plain": [
       "     City_ID       City Country  Max Temp    Lat    Lng  \\\n",
       "57        91  frankfurt      DE     66.99  50.12   8.68   \n",
       "12        18  trondheim      NO     75.20  63.43  10.40   \n",
       "349      537       bone      DE     63.00  51.97  12.14   \n",
       "177      279      timra      SE     64.99  62.49  17.33   \n",
       "\n",
       "                        Hotel Name  \n",
       "57   Favored Hotel Scala Frankfurt  \n",
       "12         Comfort Hotel Trondheim  \n",
       "349            Sporthotel Wallwitz  \n",
       "177           Wifstavarfs Herrgård  "
      ]
     },
     "execution_count": 26,
     "metadata": {},
     "output_type": "execute_result"
    }
   ],
   "source": [
    "itinerary_df"
   ]
  },
  {
   "cell_type": "code",
   "execution_count": 27,
   "metadata": {},
   "outputs": [
    {
     "data": {
      "text/html": [
       "<div>\n",
       "<style scoped>\n",
       "    .dataframe tbody tr th:only-of-type {\n",
       "        vertical-align: middle;\n",
       "    }\n",
       "\n",
       "    .dataframe tbody tr th {\n",
       "        vertical-align: top;\n",
       "    }\n",
       "\n",
       "    .dataframe thead th {\n",
       "        text-align: right;\n",
       "    }\n",
       "</style>\n",
       "<table border=\"1\" class=\"dataframe\">\n",
       "  <thead>\n",
       "    <tr style=\"text-align: right;\">\n",
       "      <th></th>\n",
       "      <th>City_ID</th>\n",
       "      <th>City</th>\n",
       "      <th>Country</th>\n",
       "      <th>Max Temp</th>\n",
       "      <th>Lat</th>\n",
       "      <th>Lng</th>\n",
       "      <th>Hotel Name</th>\n",
       "    </tr>\n",
       "  </thead>\n",
       "  <tbody>\n",
       "    <tr>\n",
       "      <th>0</th>\n",
       "      <td>91</td>\n",
       "      <td>frankfurt</td>\n",
       "      <td>DE</td>\n",
       "      <td>66.99</td>\n",
       "      <td>50.12</td>\n",
       "      <td>8.68</td>\n",
       "      <td>Favored Hotel Scala Frankfurt</td>\n",
       "    </tr>\n",
       "    <tr>\n",
       "      <th>1</th>\n",
       "      <td>18</td>\n",
       "      <td>trondheim</td>\n",
       "      <td>NO</td>\n",
       "      <td>75.20</td>\n",
       "      <td>63.43</td>\n",
       "      <td>10.40</td>\n",
       "      <td>Comfort Hotel Trondheim</td>\n",
       "    </tr>\n",
       "    <tr>\n",
       "      <th>2</th>\n",
       "      <td>537</td>\n",
       "      <td>bone</td>\n",
       "      <td>DE</td>\n",
       "      <td>63.00</td>\n",
       "      <td>51.97</td>\n",
       "      <td>12.14</td>\n",
       "      <td>Sporthotel Wallwitz</td>\n",
       "    </tr>\n",
       "    <tr>\n",
       "      <th>3</th>\n",
       "      <td>279</td>\n",
       "      <td>timra</td>\n",
       "      <td>SE</td>\n",
       "      <td>64.99</td>\n",
       "      <td>62.49</td>\n",
       "      <td>17.33</td>\n",
       "      <td>Wifstavarfs Herrgård</td>\n",
       "    </tr>\n",
       "  </tbody>\n",
       "</table>\n",
       "</div>"
      ],
      "text/plain": [
       "   City_ID       City Country  Max Temp    Lat    Lng  \\\n",
       "0       91  frankfurt      DE     66.99  50.12   8.68   \n",
       "1       18  trondheim      NO     75.20  63.43  10.40   \n",
       "2      537       bone      DE     63.00  51.97  12.14   \n",
       "3      279      timra      SE     64.99  62.49  17.33   \n",
       "\n",
       "                      Hotel Name  \n",
       "0  Favored Hotel Scala Frankfurt  \n",
       "1        Comfort Hotel Trondheim  \n",
       "2            Sporthotel Wallwitz  \n",
       "3           Wifstavarfs Herrgård  "
      ]
     },
     "execution_count": 27,
     "metadata": {},
     "output_type": "execute_result"
    }
   ],
   "source": [
    "itinerary_df.reset_index(drop=True)"
   ]
  },
  {
   "cell_type": "code",
   "execution_count": 28,
   "metadata": {},
   "outputs": [],
   "source": [
    "# Using template add the hotel plots to the heatmat\n",
    "info_box_template = \"\"\"\n",
    "<dl>\n",
    "<dt>Hotel Name</dt>\n",
    "<dd>{Hotel Name}</dd>\n",
    "<dt>City</dt><dd>{City}</dd>\n",
    "<dt>Country</dt><dd>{Country}</dd>\n",
    "<dt>Hotel Name</dt><dd>{Hotel Name} at {Max Temp}</dd>\n",
    "\"\"\"\n",
    "hotel_info = [info_box_template.format(**row) for index, row in itinerary_df.iterrows()]\n",
    "locations = itinerary_df[[\"Lat\",\"Lng\"]]"
   ]
  },
  {
   "cell_type": "code",
   "execution_count": 29,
   "metadata": {},
   "outputs": [
    {
     "data": {
      "application/vnd.jupyter.widget-view+json": {
       "model_id": "e5f3315c1b654a27a6ceb961c51850cf",
       "version_major": 2,
       "version_minor": 0
      },
      "text/plain": [
       "Figure(layout=FigureLayout(height='420px'))"
      ]
     },
     "metadata": {},
     "output_type": "display_data"
    }
   ],
   "source": [
    "marker_layer = gmaps.marker_layer(locations, info_box_content = hotel_info)\n",
    "fig = gmaps.figure()\n",
    "fig.add_layer(marker_layer)\n",
    "\n",
    "fig"
   ]
  },
  {
   "cell_type": "code",
   "execution_count": null,
   "metadata": {},
   "outputs": [],
   "source": []
  }
 ],
 "metadata": {
  "kernelspec": {
   "display_name": "PythonData",
   "language": "python",
   "name": "pythondata"
  },
  "language_info": {
   "codemirror_mode": {
    "name": "ipython",
    "version": 3
   },
   "file_extension": ".py",
   "mimetype": "text/x-python",
   "name": "python",
   "nbconvert_exporter": "python",
   "pygments_lexer": "ipython3",
   "version": "3.7.7"
  }
 },
 "nbformat": 4,
 "nbformat_minor": 4
}
